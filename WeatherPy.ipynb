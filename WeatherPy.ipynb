{
 "cells": [
  {
   "cell_type": "markdown",
   "metadata": {},
   "source": [
    "## Weather Application "
   ]
  },
  {
   "cell_type": "code",
   "execution_count": 1,
   "metadata": {},
   "outputs": [],
   "source": [
    "from tkinter import *\n",
    "from tkinter import messagebox\n",
    "import json\n",
    "import requests\n",
    "import io\n",
    "import base64\n",
    "from urllib.request import urlopen"
   ]
  },
  {
   "cell_type": "code",
   "execution_count": 2,
   "metadata": {},
   "outputs": [],
   "source": [
    "def readweather(city):\n",
    "    readweather=requests.get('http://api.worldweatheronline.com/premium/v1/weather.ashx?key=adf5c641ad4a432799a131221191202&q='+city+'&format=json')\n",
    "    data=json.loads(readweather.text)\n",
    "    ## Determining Current Temperature\n",
    "    date=data['data']['weather'][0]['date']\n",
    "    dateLabel=Label(window,text='Forcast for : '+date+' ',font=(\"Helvetica\",12))\n",
    "    dateLabel.place(x=10,y=160)\n",
    "    \n",
    "    tempc=data['data']['current_condition'][0]['temp_C']\n",
    "    tempf=data['data']['current_condition'][0]['temp_F']\n",
    "    tempcLabel=Label(window,text='Temperature : '+tempc+' *C  '+tempf+' *F',font=(\"Helvetica\",12))\n",
    "    tempcLabel.place(x=10,y=200)\n",
    "    \n",
    "    windspeedmiles=data['data']['current_condition'][0]['windspeedMiles']\n",
    "    windspeedkmph=data['data']['current_condition'][0]['windspeedKmph']\n",
    "    windspeedLabel=Label(window,text='WindSpeed  :  '+windspeedmiles+' miles  '+windspeedkmph+' kmph',font=(\"Helvetica\",12))\n",
    "    windspeedLabel.place(x=10,y=220)\n",
    "    \n",
    "    humidity=data['data']['current_condition'][0]['humidity']\n",
    "    humidityLabel=Label(window,text='Humidity   : '+humidity+'',font=(\"Helvetica\",12))\n",
    "    humidityLabel.place(x=10,y=260)\n",
    "    \n",
    "    visibility=data['data']['current_condition'][0]['visibility']\n",
    "    visibilityLabel=Label(window,text='Visibility    : '+visibility+' feet',font=(\"Helvetica\",12))\n",
    "    visibilityLabel.place(x=10,y=280)\n",
    "    \n",
    "    pressure=data['data']['current_condition'][0]['pressure']\n",
    "    pressureLabel=Label(window,text='Pressure   : '+pressure+' pascals',font=(\"Helvetica\",12))\n",
    "    pressureLabel.place(x=10,y=300)\n",
    "    \n",
    "    sunrise=data['data']['weather'][0]['astronomy'][0]['sunrise']\n",
    "    sunriseLabel=Label(window,text='Sunrise  :  '+sunrise+'',font=(\"Helvetica\",12))\n",
    "    sunriseLabel.place(x=10,y=340)\n",
    "    \n",
    "    sunset=data['data']['weather'][0]['astronomy'][0]['sunset']\n",
    "    sunsetLabel=Label(window,text='Sunset   :  '+sunset+'',font=(\"Helvetica\",12))\n",
    "    sunsetLabel.place(x=10,y=360)\n",
    "    \n",
    "    moonrise=data['data']['weather'][0]['astronomy'][0]['moonrise']\n",
    "    moonriseLabel=Label(window,text='Moonrise  :  '+moonrise+'',font=(\"Helvetica\",12))\n",
    "    moonriseLabel.place(x=10,y=400)\n"
   ]
  },
  {
   "cell_type": "code",
   "execution_count": 3,
   "metadata": {},
   "outputs": [],
   "source": [
    "def findweather(cityEntry):\n",
    "    if (str(cityEntry.get())=='' or not str(cityEntry.get())):\n",
    "        message=\"Enter Valid City\"\n",
    "        heading=\"Empty Fields\"\n",
    "        messagebox.showinfo(heading,message)\n",
    "    else:\n",
    "        readweather(str(cityEntry.get()))\n"
   ]
  },
  {
   "cell_type": "code",
   "execution_count": 5,
   "metadata": {},
   "outputs": [],
   "source": [
    "## Load Image from Url\n",
    "image_url = \"https://raw.githubusercontent.com/vkunal1996/WeatherPy/master/w5.png\"\n",
    "image_byt = urlopen(image_url).read()\n",
    "image_b64 = base64.encodebytes(image_byt)"
   ]
  },
  {
   "cell_type": "code",
   "execution_count": 6,
   "metadata": {},
   "outputs": [],
   "source": [
    "window=Tk()\n",
    "window.title('Weather Forcast')\n",
    "window.geometry(\"500x500+450+150\")\n",
    "photo=PhotoImage(data=image_b64)\n",
    "BL=Label(window,image=photo)\n",
    "BL.place(x=220,y=0)\n",
    "weatherLabel=Label(window,text='Weather Forcast',font=(\"Helvetica\",20,\"bold\"))\n",
    "weatherLabel.place(x=130,y=0)\n",
    "cityLabel=Label(window,text='City : ',font=(\"Helvetica\",15,\"bold\"))\n",
    "cityLabel.place(x=10,y=60)\n",
    "cityEntry=Entry(window,bd=3)\n",
    "cityEntry.place(x=70,y=65)\n",
    "L4=Label(window,text=\"Made by : Kunal Verma\",font=(\"Helvetica\",14,\"bold\"))\n",
    "L4.place(x=130,y=440)\n",
    "B1=Button(window,text=\"Submit\",command=lambda: findweather(cityEntry),bd=5,width=18,height=1)\n",
    "B1.place(x=40,y=100)\n",
    "\n",
    "window.mainloop()"
   ]
  }
 ],
 "metadata": {
  "kernelspec": {
   "display_name": "Python 3",
   "language": "python",
   "name": "python3"
  },
  "language_info": {
   "codemirror_mode": {
    "name": "ipython",
    "version": 3
   },
   "file_extension": ".py",
   "mimetype": "text/x-python",
   "name": "python",
   "nbconvert_exporter": "python",
   "pygments_lexer": "ipython3",
   "version": "3.6.7"
  }
 },
 "nbformat": 4,
 "nbformat_minor": 2
}
